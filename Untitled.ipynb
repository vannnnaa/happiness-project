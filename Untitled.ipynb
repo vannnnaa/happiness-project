{
  "metadata": {
    "kernelspec": {
      "name": "python",
      "display_name": "Python (Pyodide)",
      "language": "python"
    },
    "language_info": {
      "codemirror_mode": {
        "name": "python",
        "version": 3
      },
      "file_extension": ".py",
      "mimetype": "text/x-python",
      "name": "python",
      "nbconvert_exporter": "python",
      "pygments_lexer": "ipython3",
      "version": "3.8"
    }
  },
  "nbformat_minor": 5,
  "nbformat": 4,
  "cells": [
    {
      "id": "4bc78694-e2e2-4358-8265-249102552128",
      "cell_type": "code",
      "source": "print('hello')",
      "metadata": {
        "trusted": true
      },
      "outputs": [
        {
          "name": "stdout",
          "output_type": "stream",
          "text": "hello\n"
        }
      ],
      "execution_count": 1
    },
    {
      "id": "31b82161-a7eb-4456-9ebb-bd51e87ff8c4",
      "cell_type": "code",
      "source": "",
      "metadata": {
        "trusted": true
      },
      "outputs": [],
      "execution_count": null
    },
    {
      "id": "832f1b56-c251-4b85-9230-8a18ae5192e2",
      "cell_type": "code",
      "source": "",
      "metadata": {
        "trusted": true
      },
      "outputs": [],
      "execution_count": null
    },
    {
      "id": "7ceca34d-8282-4c2f-9256-152b271dda19",
      "cell_type": "code",
      "source": "f = open('covid_19.txt', 'r')\nprint(f.readline())",
      "metadata": {
        "trusted": true
      },
      "outputs": [
        {
          "name": "stdout",
          "output_type": "stream",
          "text": "\n"
        }
      ],
      "execution_count": 3
    },
    {
      "id": "2afd99f8-7a42-4b5a-9b3d-fdfdc76f7766",
      "cell_type": "code",
      "source": "",
      "metadata": {
        "trusted": true
      },
      "outputs": [],
      "execution_count": null
    },
    {
      "id": "19084171-38a5-48e4-b914-e25611685151",
      "cell_type": "code",
      "source": "",
      "metadata": {
        "trusted": true
      },
      "outputs": [],
      "execution_count": null
    }
  ]
}